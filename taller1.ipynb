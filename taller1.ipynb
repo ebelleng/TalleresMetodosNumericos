{
 "cells": [
  {
   "cell_type": "markdown",
   "source": [
    "# Taller 1 - Métodos Numéricos\r\n"
   ],
   "metadata": {}
  },
  {
   "cell_type": "markdown",
   "source": [
    "## Ejercicio 1\r\n",
    "\r\n",
    "Defina una función en JULIA que sea capaz de convertir de un número decimal a uno binario."
   ],
   "metadata": {}
  },
  {
   "cell_type": "code",
   "execution_count": 11,
   "source": [
    "function convertir_a_binario(numero)\r\n",
    "    entero = trunc(numero)\r\n",
    "    decimal = numero - entero\r\n",
    "\r\n",
    "    # Parte entera\r\n",
    "    numAux = entero\r\n",
    "    entero_bin = \"\"\r\n",
    "    while numAux > 0\r\n",
    "        # Concatena resto del entero\r\n",
    "        entero_bin *= string(Int(numAux % 2)) \r\n",
    "        numAux = trunc(numAux / 2) \r\n",
    "    end\r\n",
    "    entero_bin = join([ i for i in entero_bin[end:-1:1] ]) # Da vuelta cadena\r\n",
    "\r\n",
    "    # Parte decimal\r\n",
    "    numAux = decimal\r\n",
    "    parte_decimal = \"\"\r\n",
    "    while numAux != 1.0\r\n",
    "        numAux = numAux * 2\r\n",
    "        parte_decimal *= string(numAux)[1] # Extrae parte entera\r\n",
    "        if numAux > 1\r\n",
    "            numAux = numAux - 1\r\n",
    "        end\r\n",
    "    end \r\n",
    "\r\n",
    "    return entero_bin * \".\" * parte_decimal\r\n",
    "end\r\n",
    "\r\n",
    "convertir_a_binario(217.34375)"
   ],
   "outputs": [
    {
     "output_type": "execute_result",
     "data": {
      "text/plain": [
       "\"11011001.01011\""
      ]
     },
     "metadata": {},
     "execution_count": 11
    }
   ],
   "metadata": {}
  },
  {
   "cell_type": "markdown",
   "source": [
    "## Ejercicio 2\r\n",
    "\r\n",
    "Dada una aproximación, muestre la evolución del error absoluto y el relativo en cada iteración. Use como valor verdadero la implementación de JULIA para tales funciones."
   ],
   "metadata": {}
  },
  {
   "cell_type": "code",
   "execution_count": 19,
   "source": [
    "# e^x = sum_{0, inf} (x^k / k!)\r\n",
    "function expo(x)\r\n",
    "    sum = 0\r\n",
    "    for k in 0:20\r\n",
    "        sum += x^k / factorial(k)\r\n",
    "    end\r\n",
    "    return sum\r\n",
    "end\r\n",
    "\r\n",
    "expo(2)"
   ],
   "outputs": [
    {
     "output_type": "execute_result",
     "data": {
      "text/plain": [
       "7.389056098930604"
      ]
     },
     "metadata": {},
     "execution_count": 19
    }
   ],
   "metadata": {}
  },
  {
   "cell_type": "code",
   "execution_count": 27,
   "source": [
    "function reporte_errores(x)\r\n",
    "    valor_real = exp(x)\r\n",
    "    valor_aprox = expo(x)\r\n",
    "\r\n",
    "    error_absoluto = abs( valor_real - valor_aprox)\r\n",
    "    error_relativo = (valor_real - valor_aprox) * 100 / valor_real\r\n",
    "\r\n",
    "    println()\r\n",
    "    println(\">> exp($(x))\")\r\n",
    "    println(\"Valor Real: $(valor_real) - Valor aproximado: $(valor_aprox)\")\r\n",
    "    println(\"Error absoluto: $(error_absoluto)\")\r\n",
    "    println(\"Error relativo: $(error_relativo)\")\r\n",
    "\r\n",
    "end\r\n",
    "\r\n",
    "for n in 1:10 reporte_errores(n) end"
   ],
   "outputs": [
    {
     "output_type": "stream",
     "name": "stdout",
     "text": [
      "\n",
      ">> exp(1)\n",
      "Valor Real: 2.718281828459045 - Valor aproximado: 2.7182818284590455\n",
      "Error absoluto: 4.440892098500626e-16\n",
      "Error relativo: -1.6337129034990843e-14\n",
      "\n",
      ">> exp(2)\n",
      "Valor Real: 7.38905609893065 - Valor aproximado: 7.389056098930604\n",
      "Error absoluto: 4.618527782440651e-14\n",
      "Error relativo: 6.250497655727702e-13\n",
      "\n",
      ">> exp(3)\n",
      "Valor Real: 20.085536923187668 - Valor aproximado: 20.085536922950844\n",
      "Error absoluto: 2.368238938288414e-10\n",
      "Error relativo: 1.1790767393200277e-9\n",
      "\n",
      ">> exp(4)\n",
      "Valor Real: 54.598150033144236 - Valor aproximado: 54.598149928148814\n",
      "Error absoluto: 1.0499542213437962e-7\n",
      "Error relativo: 1.923058236783505e-7\n",
      "\n",
      ">> exp(5)\n",
      "Valor Real: 148.4131591025766 - Valor aproximado: 148.4131470673818\n",
      "Error absoluto: 1.2035194799864257e-5\n",
      "Error relativo: 8.10925046851544e-6\n",
      "\n",
      ">> exp(6)\n",
      "Valor Real: 403.4287934927351 - Valor aproximado: 403.42820646067776\n",
      "Error absoluto: 0.0005870320573535537\n",
      "Error relativo: 0.00014551069899380517\n",
      "\n",
      ">> exp(7)\n",
      "Valor Real: 1096.6331584284585 - Valor aproximado: 1096.6172623562054\n",
      "Error absoluto: 0.01589607225309919\n",
      "Error relativo: 0.0014495341610752698\n",
      "\n",
      ">> exp(8)\n",
      "Valor Real: 2980.9579870417283 - Valor aproximado: 2980.6778726686925\n",
      "Error absoluto: 0.28011437303575804\n",
      "Error relativo: 0.00939679036918399\n",
      "\n",
      ">> exp(9)\n",
      "Valor Real: 8103.083927575384 - Valor aproximado: 8091.94243518097\n",
      "Error absoluto: 11.141492394413945\n",
      "Error relativo: 0.1374969393627855\n",
      "\n",
      ">> exp(10)\n",
      "Valor Real: 22026.465794806718 - Valor aproximado: 21801.927082517817\n",
      "Error absoluto: 224.53871228890057\n",
      "Error relativo: 1.019404176687488\n"
     ]
    }
   ],
   "metadata": {}
  }
 ],
 "metadata": {
  "orig_nbformat": 4,
  "language_info": {
   "file_extension": ".jl",
   "name": "julia",
   "mimetype": "application/julia",
   "version": "1.6.2"
  },
  "kernelspec": {
   "name": "julia-1.6",
   "display_name": "Julia 1.6.2",
   "language": "julia"
  }
 },
 "nbformat": 4,
 "nbformat_minor": 2
}